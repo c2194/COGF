{
 "cells": [
  {
   "cell_type": "markdown",
   "metadata": {},
   "source": [
    "api 接口\n"
   ]
  },
  {
   "cell_type": "markdown",
   "metadata": {},
   "source": [
    "格式：\n",
    " ?ACT=toshop&shopid=564885&COM=$D[19]L<2>()|\n",
    " ACT : 操作命令\n",
    " toshop 向店铺的设备发送 $[] 命令\n",
    " getingi 获取单台设备的即时码表数据\n",
    "        参数: shopid  店铺id\n",
    "              deviceid 设备编号\n",
    "\n",
    " setingi 设置 码表基础值，用于更换娃娃机主板后数据与实际相符\n",
    "        参数: shopid  店铺id\n",
    "              coin  当前设备当前值=coin值\n",
    "              gift  当前设备当前值=gift值\n",
    "              deviceid 设备编号\n",
    "\n",
    "         算法是：获取当前设备的值，然后 用 设置值 - 当前值 = 差值 并在数据库中保存差值\n",
    "         之后获取到抄表数据 都是 加上差值 就等于 目标值  \n",
    "         例： 换主板前 coin值为8829  新换的主板后，值为 2939\n",
    "         从数据库中找到换表前数据 8829  - 2939 = 5890\n",
    "         将5890 存储到 差值数据表中\n",
    "         获取到新抄表信息为 3011 则用 差值表 5890 + 3011 = 8901\n",
    "         将8910 存储到 抄表数据\n",
    "\n",
    "\n"
   ]
  },
  {
   "cell_type": "markdown",
   "metadata": {},
   "source": []
  },
  {
   "cell_type": "markdown",
   "metadata": {},
   "source": [
    "工作流"
   ]
  },
  {
   "cell_type": "markdown",
   "metadata": {},
   "source": [
    "\\\n",
    "\n",
    "web服务端发起一个抄单台设备码表指令，获取数据 <br>\n",
    "\n",
    "web端 <br>\n",
    "API接口- GET /ACT=getingo&shopid=xxx&deviceid=xxxx  // 收到了一个GET请求<br>\n",
    "    ▼<br>\n",
    "   [S]dataReceived()<br> \n",
    "   ▼<br>\n",
    "   [S]getdevicecogi()<br>\n",
    "   ▼<br>\n",
    "   [S]CLIENT[目标].webobj=self // 传递本对象标志给目标对象\n",
    "   [S]CLIENT[目标]..getcoingift_one()    // 从目标对象发送消息给外网设备<br>\n",
    "      self.cKey = b64.createrand() #产生一个key 并保存起来\n",
    "      \"$Q[\"+str(deviceid)+\"]Q<>()&\"+str(self.cKey)+\"#\"\n",
    "      self.RX(sendstr)\n",
    "\n",
    "联网设备<br>\n",
    "   [2]loop -> client.available()  //<br>\n",
    "   ▼<br>\n",
    "   [2]loop ->  client.available() ▶ Serial.print(host_char); 透传到串口0<br>\n",
    "\n",
    "主机<br>\n",
    "   [1]loop ▶ Serial1.available() -> getdevice()\n",
    "   [1] \n",
    "``` String sendstr =\"$D[\"+String(deviceid)+\"]Q<>()&0#\"; \n",
    "```\n",
    "   [1]command_D(sendstr) -> sendToDown()->esp_now_send()<br>\n",
    "分机<br>\n",
    "   [0]OnDataRecv()<br>\n",
    "   [0]command_D()-> if (command == 'Q') -> Serial.write(buf,6) //16进制方式写入串口<br>\n",
    "\n",
    "#等待设备返回<br>\n",
    "### 设备收到了来自串口命令，返回到串口\n",
    "   [0]loop()->if(Serial.available()>0)-> 收到串口消息<br>\n",
    "      if(inCommand=='Q') -> sendToUp(umsg) //根据收到的命令类型返回消息<br>\n",
    "         umsg=$U[MID]q<123>(567)&# <br>\n",
    "   \n",
    "   [0]sendToUp() -> esp_now_send()\n",
    "#### 主、中继设备收到消息\n",
    "   [0]OnDataRecv()->command_U()->sendToUp()->\n",
    "```C\n",
    "   if (SUNM1.MAIN){ //主设备：生成json 并发送到串口1\n",
    "    if (command == 'q'){  // \n",
    "      String outstr =\"{\\\"COM\\\":\\\"Qde\\\",\\\"COIN\\\":\"+reStr(sdata,'<','>')+\",\";\n",
    "      Serial1.println(outstr);\n",
    "    }\n",
    "\n",
    "   }else{ // 中继设备继续向上传递\n",
    "      esp_now_send()\n",
    "   }\n",
    "```\n",
    "\n",
    "#### 联网设备\n",
    "   [2]loop()->\n",
    "```C\n",
    "if (SUNM1.MAIN==2){//直接发送给 S 服务器\n",
    "   String outr = String(uartbuf,uartpo);\n",
    "   client.print(outr);\n",
    "}\n",
    "```\n",
    "#### 服务端\n",
    "\n",
    "   [S]dataReceived()->if abc[\"COM\"]==\"Cog\":<br>\n",
    "         self.webObj.reWebStr(data) #返回结果给api调用端<br>\n",
    "\n",
    "\n",
    "   解码UNK\n",
    "\n",
    "\n",
    "   \n",
    "\n",
    "\n",
    "\n",
    "\n",
    "\n",
    "\n",
    "\n",
    "\n",
    "\n",
    "\n",
    "\n",
    "\n"
   ]
  },
  {
   "cell_type": "code",
   "execution_count": null,
   "metadata": {},
   "outputs": [],
   "source": []
  },
  {
   "cell_type": "markdown",
   "metadata": {},
   "source": [
    "abc <br>\n",
    "def\n"
   ]
  }
 ],
 "metadata": {
  "kernelspec": {
   "display_name": "Python 3.9.2 64-bit",
   "language": "python",
   "name": "python3"
  },
  "language_info": {
   "name": "python",
   "version": "3.9.2"
  },
  "orig_nbformat": 4,
  "vscode": {
   "interpreter": {
    "hash": "81794d4967e6c3204c66dcd87b604927b115b27c00565d3d43f05ba2f3a2cb0d"
   }
  }
 },
 "nbformat": 4,
 "nbformat_minor": 2
}
